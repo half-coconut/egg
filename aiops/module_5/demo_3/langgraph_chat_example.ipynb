{
 "cells": [
  {
   "cell_type": "markdown",
   "source": [
    "# LangGraph 单节点实例"
   ],
   "metadata": {
    "collapsed": false
   },
   "id": "48a7fac668bc08ba"
  },
  {
   "cell_type": "code",
   "outputs": [
    {
     "name": "stdout",
     "output_type": "stream",
     "text": [
      "Requirement already satisfied: langgraph in /Users/chenchen/Desktop/egg/.venv/lib/python3.12/site-packages (0.2.69)\r\n",
      "Requirement already satisfied: langsmith in /Users/chenchen/Desktop/egg/.venv/lib/python3.12/site-packages (0.1.147)\r\n",
      "Requirement already satisfied: langchain-openai in /Users/chenchen/Desktop/egg/.venv/lib/python3.12/site-packages (0.3.3)\r\n",
      "Requirement already satisfied: langchain-core!=0.3.0,!=0.3.1,!=0.3.10,!=0.3.11,!=0.3.12,!=0.3.13,!=0.3.14,!=0.3.15,!=0.3.16,!=0.3.17,!=0.3.18,!=0.3.19,!=0.3.2,!=0.3.20,!=0.3.21,!=0.3.22,!=0.3.3,!=0.3.4,!=0.3.5,!=0.3.6,!=0.3.7,!=0.3.8,!=0.3.9,<0.4.0,>=0.2.43 in /Users/chenchen/Desktop/egg/.venv/lib/python3.12/site-packages (from langgraph) (0.3.33)\r\n",
      "Requirement already satisfied: langgraph-checkpoint<3.0.0,>=2.0.10 in /Users/chenchen/Desktop/egg/.venv/lib/python3.12/site-packages (from langgraph) (2.0.10)\r\n",
      "Requirement already satisfied: langgraph-sdk<0.2.0,>=0.1.42 in /Users/chenchen/Desktop/egg/.venv/lib/python3.12/site-packages (from langgraph) (0.1.51)\r\n",
      "Requirement already satisfied: httpx<1,>=0.23.0 in /Users/chenchen/Desktop/egg/.venv/lib/python3.12/site-packages (from langsmith) (0.28.1)\r\n",
      "Requirement already satisfied: orjson<4.0.0,>=3.9.14 in /Users/chenchen/Desktop/egg/.venv/lib/python3.12/site-packages (from langsmith) (3.10.15)\r\n",
      "Requirement already satisfied: pydantic<3.0.0,>=2.7.4 in /Users/chenchen/Desktop/egg/.venv/lib/python3.12/site-packages (from langsmith) (2.10.6)\r\n",
      "Requirement already satisfied: requests<3,>=2 in /Users/chenchen/Desktop/egg/.venv/lib/python3.12/site-packages (from langsmith) (2.32.3)\r\n",
      "Requirement already satisfied: requests-toolbelt<2.0.0,>=1.0.0 in /Users/chenchen/Desktop/egg/.venv/lib/python3.12/site-packages (from langsmith) (1.0.0)\r\n",
      "Requirement already satisfied: openai<2.0.0,>=1.58.1 in /Users/chenchen/Desktop/egg/.venv/lib/python3.12/site-packages (from langchain-openai) (1.61.1)\r\n",
      "Requirement already satisfied: tiktoken<1,>=0.7 in /Users/chenchen/Desktop/egg/.venv/lib/python3.12/site-packages (from langchain-openai) (0.8.0)\r\n",
      "Requirement already satisfied: anyio in /Users/chenchen/Desktop/egg/.venv/lib/python3.12/site-packages (from httpx<1,>=0.23.0->langsmith) (4.8.0)\r\n",
      "Requirement already satisfied: certifi in /Users/chenchen/Desktop/egg/.venv/lib/python3.12/site-packages (from httpx<1,>=0.23.0->langsmith) (2025.1.31)\r\n",
      "Requirement already satisfied: httpcore==1.* in /Users/chenchen/Desktop/egg/.venv/lib/python3.12/site-packages (from httpx<1,>=0.23.0->langsmith) (1.0.7)\r\n",
      "Requirement already satisfied: idna in /Users/chenchen/Desktop/egg/.venv/lib/python3.12/site-packages (from httpx<1,>=0.23.0->langsmith) (3.10)\r\n",
      "Requirement already satisfied: h11<0.15,>=0.13 in /Users/chenchen/Desktop/egg/.venv/lib/python3.12/site-packages (from httpcore==1.*->httpx<1,>=0.23.0->langsmith) (0.14.0)\r\n",
      "Requirement already satisfied: PyYAML>=5.3 in /Users/chenchen/Desktop/egg/.venv/lib/python3.12/site-packages (from langchain-core!=0.3.0,!=0.3.1,!=0.3.10,!=0.3.11,!=0.3.12,!=0.3.13,!=0.3.14,!=0.3.15,!=0.3.16,!=0.3.17,!=0.3.18,!=0.3.19,!=0.3.2,!=0.3.20,!=0.3.21,!=0.3.22,!=0.3.3,!=0.3.4,!=0.3.5,!=0.3.6,!=0.3.7,!=0.3.8,!=0.3.9,<0.4.0,>=0.2.43->langgraph) (6.0.2)\r\n",
      "Requirement already satisfied: jsonpatch<2.0,>=1.33 in /Users/chenchen/Desktop/egg/.venv/lib/python3.12/site-packages (from langchain-core!=0.3.0,!=0.3.1,!=0.3.10,!=0.3.11,!=0.3.12,!=0.3.13,!=0.3.14,!=0.3.15,!=0.3.16,!=0.3.17,!=0.3.18,!=0.3.19,!=0.3.2,!=0.3.20,!=0.3.21,!=0.3.22,!=0.3.3,!=0.3.4,!=0.3.5,!=0.3.6,!=0.3.7,!=0.3.8,!=0.3.9,<0.4.0,>=0.2.43->langgraph) (1.33)\r\n",
      "Requirement already satisfied: packaging<25,>=23.2 in /Users/chenchen/Desktop/egg/.venv/lib/python3.12/site-packages (from langchain-core!=0.3.0,!=0.3.1,!=0.3.10,!=0.3.11,!=0.3.12,!=0.3.13,!=0.3.14,!=0.3.15,!=0.3.16,!=0.3.17,!=0.3.18,!=0.3.19,!=0.3.2,!=0.3.20,!=0.3.21,!=0.3.22,!=0.3.3,!=0.3.4,!=0.3.5,!=0.3.6,!=0.3.7,!=0.3.8,!=0.3.9,<0.4.0,>=0.2.43->langgraph) (23.2)\r\n",
      "Requirement already satisfied: tenacity!=8.4.0,<10.0.0,>=8.1.0 in /Users/chenchen/Desktop/egg/.venv/lib/python3.12/site-packages (from langchain-core!=0.3.0,!=0.3.1,!=0.3.10,!=0.3.11,!=0.3.12,!=0.3.13,!=0.3.14,!=0.3.15,!=0.3.16,!=0.3.17,!=0.3.18,!=0.3.19,!=0.3.2,!=0.3.20,!=0.3.21,!=0.3.22,!=0.3.3,!=0.3.4,!=0.3.5,!=0.3.6,!=0.3.7,!=0.3.8,!=0.3.9,<0.4.0,>=0.2.43->langgraph) (8.5.0)\r\n",
      "Requirement already satisfied: typing-extensions>=4.7 in /Users/chenchen/Desktop/egg/.venv/lib/python3.12/site-packages (from langchain-core!=0.3.0,!=0.3.1,!=0.3.10,!=0.3.11,!=0.3.12,!=0.3.13,!=0.3.14,!=0.3.15,!=0.3.16,!=0.3.17,!=0.3.18,!=0.3.19,!=0.3.2,!=0.3.20,!=0.3.21,!=0.3.22,!=0.3.3,!=0.3.4,!=0.3.5,!=0.3.6,!=0.3.7,!=0.3.8,!=0.3.9,<0.4.0,>=0.2.43->langgraph) (4.12.2)\r\n",
      "Requirement already satisfied: msgpack<2.0.0,>=1.1.0 in /Users/chenchen/Desktop/egg/.venv/lib/python3.12/site-packages (from langgraph-checkpoint<3.0.0,>=2.0.10->langgraph) (1.1.0)\r\n",
      "Requirement already satisfied: distro<2,>=1.7.0 in /Users/chenchen/Desktop/egg/.venv/lib/python3.12/site-packages (from openai<2.0.0,>=1.58.1->langchain-openai) (1.9.0)\r\n",
      "Requirement already satisfied: jiter<1,>=0.4.0 in /Users/chenchen/Desktop/egg/.venv/lib/python3.12/site-packages (from openai<2.0.0,>=1.58.1->langchain-openai) (0.8.2)\r\n",
      "Requirement already satisfied: sniffio in /Users/chenchen/Desktop/egg/.venv/lib/python3.12/site-packages (from openai<2.0.0,>=1.58.1->langchain-openai) (1.3.1)\r\n",
      "Requirement already satisfied: tqdm>4 in /Users/chenchen/Desktop/egg/.venv/lib/python3.12/site-packages (from openai<2.0.0,>=1.58.1->langchain-openai) (4.67.1)\r\n",
      "Requirement already satisfied: annotated-types>=0.6.0 in /Users/chenchen/Desktop/egg/.venv/lib/python3.12/site-packages (from pydantic<3.0.0,>=2.7.4->langsmith) (0.7.0)\r\n",
      "Requirement already satisfied: pydantic-core==2.27.2 in /Users/chenchen/Desktop/egg/.venv/lib/python3.12/site-packages (from pydantic<3.0.0,>=2.7.4->langsmith) (2.27.2)\r\n",
      "Requirement already satisfied: charset-normalizer<4,>=2 in /Users/chenchen/Desktop/egg/.venv/lib/python3.12/site-packages (from requests<3,>=2->langsmith) (3.4.1)\r\n",
      "Requirement already satisfied: urllib3<3,>=1.21.1 in /Users/chenchen/Desktop/egg/.venv/lib/python3.12/site-packages (from requests<3,>=2->langsmith) (2.3.0)\r\n",
      "Requirement already satisfied: regex>=2022.1.18 in /Users/chenchen/Desktop/egg/.venv/lib/python3.12/site-packages (from tiktoken<1,>=0.7->langchain-openai) (2024.11.6)\r\n",
      "Requirement already satisfied: jsonpointer>=1.9 in /Users/chenchen/Desktop/egg/.venv/lib/python3.12/site-packages (from jsonpatch<2.0,>=1.33->langchain-core!=0.3.0,!=0.3.1,!=0.3.10,!=0.3.11,!=0.3.12,!=0.3.13,!=0.3.14,!=0.3.15,!=0.3.16,!=0.3.17,!=0.3.18,!=0.3.19,!=0.3.2,!=0.3.20,!=0.3.21,!=0.3.22,!=0.3.3,!=0.3.4,!=0.3.5,!=0.3.6,!=0.3.7,!=0.3.8,!=0.3.9,<0.4.0,>=0.2.43->langgraph) (3.0.0)\r\n",
      "\r\n",
      "\u001B[1m[\u001B[0m\u001B[34;49mnotice\u001B[0m\u001B[1;39;49m]\u001B[0m\u001B[39;49m A new release of pip is available: \u001B[0m\u001B[31;49m23.2.1\u001B[0m\u001B[39;49m -> \u001B[0m\u001B[32;49m25.0\u001B[0m\r\n",
      "\u001B[1m[\u001B[0m\u001B[34;49mnotice\u001B[0m\u001B[1;39;49m]\u001B[0m\u001B[39;49m To update, run: \u001B[0m\u001B[32;49mpip install --upgrade pip\u001B[0m\r\n"
     ]
    }
   ],
   "source": [
    "! pip install langgraph langsmith langchain-openai"
   ],
   "metadata": {
    "collapsed": false,
    "ExecuteTime": {
     "end_time": "2025-02-06T07:00:26.090523Z",
     "start_time": "2025-02-06T07:00:24.689065Z"
    }
   },
   "id": "7805aa0e6338e203",
   "execution_count": 30
  },
  {
   "cell_type": "code",
   "outputs": [
    {
     "data": {
      "image/png": "[encoded data removed]",
      "text/plain": "<IPython.core.display.Image object>"
     },
     "metadata": {},
     "output_type": "display_data"
    },
    {
     "name": "stdout",
     "output_type": "stream",
     "text": [
      "Assistant: Hello! How can I assist you today?\n",
      "Assistant: Hello! I am Assistant, an AI language model created by OpenAI. I am based on the GPT-4 architecture, which stands for “Generative Pre-trained Transformer 4”. This model has been trained on a diverse range of internet text to understand and generate human-like text based on the input I receive. However, I don’t have the ability to access real-time data or personal histories, and my responses are generated based on patterns and information in the data I was trained on up until October 2023. How can I assist you today?\n"
     ]
    }
   ],
   "source": [
    "import os\n",
    "from dotenv import load_dotenv\n",
    "# langgraph chat\n",
    "from typing import TypedDict, Annotated\n",
    "from langchain_openai import ChatOpenAI\n",
    "from langgraph.graph.message import add_messages\n",
    "from langgraph.graph import StateGraph\n",
    "from IPython.display import Image, display\n",
    "\n",
    "# 加载 .env 文件\n",
    "load_dotenv()\n",
    "llm = ChatOpenAI(model=\"gpt-4o\", openai_api_key=os.getenv(\"OPENAI_API_KEY\"),\n",
    "                 openai_api_base=os.getenv(\"OPENAI_API_BASE\"))\n",
    "\n",
    "\n",
    "# llm = ChatOpenAI(model=\"gpt-4o\",\n",
    "#                  openai_api_key=\"sk-bzNskWdx7jT08w7KfxA8pAnAoU8fkN6pFCdGkWCs3rKxxWyy\",\n",
    "#                  openai_api_base=\"https://sg.uiuiapi.com/v1\")\n",
    "\n",
    "class State(TypedDict):\n",
    "    messages: Annotated[list, add_messages]\n",
    "\n",
    "\n",
    "def chat(state: State):\n",
    "    return {\"messages\": [llm.invoke(state[\"messages\"])]}\n",
    "\n",
    "\n",
    "workflow = StateGraph(State)\n",
    "workflow.add_node(chat)\n",
    "workflow.set_entry_point(\"chat\")\n",
    "workflow.set_finish_point(\"chat\")\n",
    "graph = workflow.compile()\n",
    "\n",
    "display(Image(graph.get_graph().draw_mermaid_png()))\n",
    "\n",
    "while True:\n",
    "    user_input = input(\"User: \")\n",
    "    if user_input.lower() in [\"quit\", \"exit\", \"q\"]:\n",
    "        break\n",
    "    for event in graph.stream({\"messages\": (\"user\", user_input)}):\n",
    "        for value in event.values():\n",
    "            print(\"Assistant:\", value[\"messages\"][-1].content)"
   ],
   "metadata": {
    "collapsed": false,
    "ExecuteTime": {
     "end_time": "2025-02-06T07:00:55.826108Z",
     "start_time": "2025-02-06T07:00:26.096533Z"
    }
   },
   "id": "67f81964a24fc02b",
   "execution_count": 31
  }
 ],
 "metadata": {
  "kernelspec": {
   "display_name": "Python 3",
   "language": "python",
   "name": "python3"
  },
  "language_info": {
   "codemirror_mode": {
    "name": "ipython",
    "version": 2
   },
   "file_extension": ".py",
   "mimetype": "text/x-python",
   "name": "python",
   "nbconvert_exporter": "python",
   "pygments_lexer": "ipython2",
   "version": "2.7.6"
  }
 },
 "nbformat": 4,
 "nbformat_minor": 5
}
