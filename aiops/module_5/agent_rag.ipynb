{
 "cells": [
  {
   "cell_type": "markdown",
   "source": [
    "### Agent RAG"
   ],
   "metadata": {
    "collapsed": false
   },
   "id": "f93ea8926647dae4"
  },
  {
   "cell_type": "code",
   "outputs": [
    {
     "name": "stdout",
     "output_type": "stream",
     "text": [
      "\r\n",
      "\u001B[1m[\u001B[0m\u001B[34;49mnotice\u001B[0m\u001B[1;39;49m]\u001B[0m\u001B[39;49m A new release of pip is available: \u001B[0m\u001B[31;49m23.2.1\u001B[0m\u001B[39;49m -> \u001B[0m\u001B[32;49m25.0\u001B[0m\r\n",
      "\u001B[1m[\u001B[0m\u001B[34;49mnotice\u001B[0m\u001B[1;39;49m]\u001B[0m\u001B[39;49m To update, run: \u001B[0m\u001B[32;49mpip install --upgrade pip\u001B[0m\r\n",
      "Requirement already satisfied: chromadb==0.5.3 in /Users/chenchen/Desktop/egg/.venv/lib/python3.12/site-packages (0.5.3)\r\n",
      "Requirement already satisfied: build>=1.0.3 in /Users/chenchen/Desktop/egg/.venv/lib/python3.12/site-packages (from chromadb==0.5.3) (1.2.2.post1)\r\n",
      "Requirement already satisfied: requests>=2.28 in /Users/chenchen/Desktop/egg/.venv/lib/python3.12/site-packages (from chromadb==0.5.3) (2.32.3)\r\n",
      "Requirement already satisfied: pydantic>=1.9 in /Users/chenchen/Desktop/egg/.venv/lib/python3.12/site-packages (from chromadb==0.5.3) (2.10.6)\r\n",
      "Requirement already satisfied: chroma-hnswlib==0.7.3 in /Users/chenchen/Desktop/egg/.venv/lib/python3.12/site-packages (from chromadb==0.5.3) (0.7.3)\r\n",
      "Requirement already satisfied: fastapi>=0.95.2 in /Users/chenchen/Desktop/egg/.venv/lib/python3.12/site-packages (from chromadb==0.5.3) (0.115.8)\r\n",
      "Requirement already satisfied: uvicorn[standard]>=0.18.3 in /Users/chenchen/Desktop/egg/.venv/lib/python3.12/site-packages (from chromadb==0.5.3) (0.34.0)\r\n",
      "Requirement already satisfied: numpy<2.0.0,>=1.22.5 in /Users/chenchen/Desktop/egg/.venv/lib/python3.12/site-packages (from chromadb==0.5.3) (1.26.4)\r\n",
      "Requirement already satisfied: posthog>=2.4.0 in /Users/chenchen/Desktop/egg/.venv/lib/python3.12/site-packages (from chromadb==0.5.3) (3.11.0)\r\n",
      "Requirement already satisfied: typing-extensions>=4.5.0 in /Users/chenchen/Desktop/egg/.venv/lib/python3.12/site-packages (from chromadb==0.5.3) (4.12.2)\r\n",
      "Requirement already satisfied: onnxruntime>=1.14.1 in /Users/chenchen/Desktop/egg/.venv/lib/python3.12/site-packages (from chromadb==0.5.3) (1.20.1)\r\n",
      "Requirement already satisfied: opentelemetry-api>=1.2.0 in /Users/chenchen/Desktop/egg/.venv/lib/python3.12/site-packages (from chromadb==0.5.3) (1.30.0)\r\n",
      "Requirement already satisfied: opentelemetry-exporter-otlp-proto-grpc>=1.2.0 in /Users/chenchen/Desktop/egg/.venv/lib/python3.12/site-packages (from chromadb==0.5.3) (1.30.0)\r\n",
      "Requirement already satisfied: opentelemetry-instrumentation-fastapi>=0.41b0 in /Users/chenchen/Desktop/egg/.venv/lib/python3.12/site-packages (from chromadb==0.5.3) (0.51b0)\r\n",
      "Requirement already satisfied: opentelemetry-sdk>=1.2.0 in /Users/chenchen/Desktop/egg/.venv/lib/python3.12/site-packages (from chromadb==0.5.3) (1.30.0)\r\n",
      "Requirement already satisfied: tokenizers>=0.13.2 in /Users/chenchen/Desktop/egg/.venv/lib/python3.12/site-packages (from chromadb==0.5.3) (0.21.0)\r\n",
      "Requirement already satisfied: pypika>=0.48.9 in /Users/chenchen/Desktop/egg/.venv/lib/python3.12/site-packages (from chromadb==0.5.3) (0.48.9)\r\n",
      "Requirement already satisfied: tqdm>=4.65.0 in /Users/chenchen/Desktop/egg/.venv/lib/python3.12/site-packages (from chromadb==0.5.3) (4.67.1)\r\n",
      "Requirement already satisfied: overrides>=7.3.1 in /Users/chenchen/Desktop/egg/.venv/lib/python3.12/site-packages (from chromadb==0.5.3) (7.7.0)\r\n",
      "Requirement already satisfied: importlib-resources in /Users/chenchen/Desktop/egg/.venv/lib/python3.12/site-packages (from chromadb==0.5.3) (6.5.2)\r\n",
      "Requirement already satisfied: grpcio>=1.58.0 in /Users/chenchen/Desktop/egg/.venv/lib/python3.12/site-packages (from chromadb==0.5.3) (1.70.0)\r\n",
      "Requirement already satisfied: bcrypt>=4.0.1 in /Users/chenchen/Desktop/egg/.venv/lib/python3.12/site-packages (from chromadb==0.5.3) (4.2.1)\r\n",
      "Requirement already satisfied: typer>=0.9.0 in /Users/chenchen/Desktop/egg/.venv/lib/python3.12/site-packages (from chromadb==0.5.3) (0.15.1)\r\n",
      "Requirement already satisfied: kubernetes>=28.1.0 in /Users/chenchen/Desktop/egg/.venv/lib/python3.12/site-packages (from chromadb==0.5.3) (32.0.0)\r\n",
      "Requirement already satisfied: tenacity>=8.2.3 in /Users/chenchen/Desktop/egg/.venv/lib/python3.12/site-packages (from chromadb==0.5.3) (9.0.0)\r\n",
      "Requirement already satisfied: PyYAML>=6.0.0 in /Users/chenchen/Desktop/egg/.venv/lib/python3.12/site-packages (from chromadb==0.5.3) (6.0.2)\r\n",
      "Requirement already satisfied: mmh3>=4.0.1 in /Users/chenchen/Desktop/egg/.venv/lib/python3.12/site-packages (from chromadb==0.5.3) (5.1.0)\r\n",
      "Requirement already satisfied: orjson>=3.9.12 in /Users/chenchen/Desktop/egg/.venv/lib/python3.12/site-packages (from chromadb==0.5.3) (3.10.15)\r\n",
      "Requirement already satisfied: httpx>=0.27.0 in /Users/chenchen/Desktop/egg/.venv/lib/python3.12/site-packages (from chromadb==0.5.3) (0.28.1)\r\n",
      "Requirement already satisfied: packaging>=19.1 in /Users/chenchen/Desktop/egg/.venv/lib/python3.12/site-packages (from build>=1.0.3->chromadb==0.5.3) (24.2)\r\n",
      "Requirement already satisfied: pyproject_hooks in /Users/chenchen/Desktop/egg/.venv/lib/python3.12/site-packages (from build>=1.0.3->chromadb==0.5.3) (1.2.0)\r\n",
      "Requirement already satisfied: starlette<0.46.0,>=0.40.0 in /Users/chenchen/Desktop/egg/.venv/lib/python3.12/site-packages (from fastapi>=0.95.2->chromadb==0.5.3) (0.45.3)\r\n",
      "Requirement already satisfied: anyio in /Users/chenchen/Desktop/egg/.venv/lib/python3.12/site-packages (from httpx>=0.27.0->chromadb==0.5.3) (4.8.0)\r\n",
      "Requirement already satisfied: certifi in /Users/chenchen/Desktop/egg/.venv/lib/python3.12/site-packages (from httpx>=0.27.0->chromadb==0.5.3) (2024.12.14)\r\n",
      "Requirement already satisfied: httpcore==1.* in /Users/chenchen/Desktop/egg/.venv/lib/python3.12/site-packages (from httpx>=0.27.0->chromadb==0.5.3) (1.0.7)\r\n",
      "Requirement already satisfied: idna in /Users/chenchen/Desktop/egg/.venv/lib/python3.12/site-packages (from httpx>=0.27.0->chromadb==0.5.3) (3.10)\r\n",
      "Requirement already satisfied: h11<0.15,>=0.13 in /Users/chenchen/Desktop/egg/.venv/lib/python3.12/site-packages (from httpcore==1.*->httpx>=0.27.0->chromadb==0.5.3) (0.14.0)\r\n",
      "Requirement already satisfied: six>=1.9.0 in /Users/chenchen/Desktop/egg/.venv/lib/python3.12/site-packages (from kubernetes>=28.1.0->chromadb==0.5.3) (1.17.0)\r\n",
      "Requirement already satisfied: python-dateutil>=2.5.3 in /Users/chenchen/Desktop/egg/.venv/lib/python3.12/site-packages (from kubernetes>=28.1.0->chromadb==0.5.3) (2.9.0.post0)\r\n",
      "Requirement already satisfied: google-auth>=1.0.1 in /Users/chenchen/Desktop/egg/.venv/lib/python3.12/site-packages (from kubernetes>=28.1.0->chromadb==0.5.3) (2.38.0)\r\n",
      "Requirement already satisfied: websocket-client!=0.40.0,!=0.41.*,!=0.42.*,>=0.32.0 in /Users/chenchen/Desktop/egg/.venv/lib/python3.12/site-packages (from kubernetes>=28.1.0->chromadb==0.5.3) (1.8.0)\r\n",
      "Requirement already satisfied: requests-oauthlib in /Users/chenchen/Desktop/egg/.venv/lib/python3.12/site-packages (from kubernetes>=28.1.0->chromadb==0.5.3) (2.0.0)\r\n",
      "Requirement already satisfied: oauthlib>=3.2.2 in /Users/chenchen/Desktop/egg/.venv/lib/python3.12/site-packages (from kubernetes>=28.1.0->chromadb==0.5.3) (3.2.2)\r\n",
      "Requirement already satisfied: urllib3>=1.24.2 in /Users/chenchen/Desktop/egg/.venv/lib/python3.12/site-packages (from kubernetes>=28.1.0->chromadb==0.5.3) (2.3.0)\r\n",
      "Requirement already satisfied: durationpy>=0.7 in /Users/chenchen/Desktop/egg/.venv/lib/python3.12/site-packages (from kubernetes>=28.1.0->chromadb==0.5.3) (0.9)\r\n",
      "Requirement already satisfied: coloredlogs in /Users/chenchen/Desktop/egg/.venv/lib/python3.12/site-packages (from onnxruntime>=1.14.1->chromadb==0.5.3) (15.0.1)\r\n",
      "Requirement already satisfied: flatbuffers in /Users/chenchen/Desktop/egg/.venv/lib/python3.12/site-packages (from onnxruntime>=1.14.1->chromadb==0.5.3) (25.1.24)\r\n",
      "Requirement already satisfied: protobuf in /Users/chenchen/Desktop/egg/.venv/lib/python3.12/site-packages (from onnxruntime>=1.14.1->chromadb==0.5.3) (5.29.3)\r\n",
      "Requirement already satisfied: sympy in /Users/chenchen/Desktop/egg/.venv/lib/python3.12/site-packages (from onnxruntime>=1.14.1->chromadb==0.5.3) (1.13.3)\r\n",
      "Requirement already satisfied: deprecated>=1.2.6 in /Users/chenchen/Desktop/egg/.venv/lib/python3.12/site-packages (from opentelemetry-api>=1.2.0->chromadb==0.5.3) (1.2.18)\r\n",
      "Requirement already satisfied: importlib-metadata<=8.5.0,>=6.0 in /Users/chenchen/Desktop/egg/.venv/lib/python3.12/site-packages (from opentelemetry-api>=1.2.0->chromadb==0.5.3) (8.5.0)\r\n",
      "Requirement already satisfied: googleapis-common-protos~=1.52 in /Users/chenchen/Desktop/egg/.venv/lib/python3.12/site-packages (from opentelemetry-exporter-otlp-proto-grpc>=1.2.0->chromadb==0.5.3) (1.66.0)\r\n",
      "Requirement already satisfied: opentelemetry-exporter-otlp-proto-common==1.30.0 in /Users/chenchen/Desktop/egg/.venv/lib/python3.12/site-packages (from opentelemetry-exporter-otlp-proto-grpc>=1.2.0->chromadb==0.5.3) (1.30.0)\r\n",
      "Requirement already satisfied: opentelemetry-proto==1.30.0 in /Users/chenchen/Desktop/egg/.venv/lib/python3.12/site-packages (from opentelemetry-exporter-otlp-proto-grpc>=1.2.0->chromadb==0.5.3) (1.30.0)\r\n",
      "Requirement already satisfied: opentelemetry-instrumentation-asgi==0.51b0 in /Users/chenchen/Desktop/egg/.venv/lib/python3.12/site-packages (from opentelemetry-instrumentation-fastapi>=0.41b0->chromadb==0.5.3) (0.51b0)\r\n",
      "Requirement already satisfied: opentelemetry-instrumentation==0.51b0 in /Users/chenchen/Desktop/egg/.venv/lib/python3.12/site-packages (from opentelemetry-instrumentation-fastapi>=0.41b0->chromadb==0.5.3) (0.51b0)\r\n",
      "Requirement already satisfied: opentelemetry-semantic-conventions==0.51b0 in /Users/chenchen/Desktop/egg/.venv/lib/python3.12/site-packages (from opentelemetry-instrumentation-fastapi>=0.41b0->chromadb==0.5.3) (0.51b0)\r\n",
      "Requirement already satisfied: opentelemetry-util-http==0.51b0 in /Users/chenchen/Desktop/egg/.venv/lib/python3.12/site-packages (from opentelemetry-instrumentation-fastapi>=0.41b0->chromadb==0.5.3) (0.51b0)\r\n",
      "Requirement already satisfied: wrapt<2.0.0,>=1.0.0 in /Users/chenchen/Desktop/egg/.venv/lib/python3.12/site-packages (from opentelemetry-instrumentation==0.51b0->opentelemetry-instrumentation-fastapi>=0.41b0->chromadb==0.5.3) (1.17.2)\r\n",
      "Requirement already satisfied: asgiref~=3.0 in /Users/chenchen/Desktop/egg/.venv/lib/python3.12/site-packages (from opentelemetry-instrumentation-asgi==0.51b0->opentelemetry-instrumentation-fastapi>=0.41b0->chromadb==0.5.3) (3.8.1)\r\n",
      "Requirement already satisfied: monotonic>=1.5 in /Users/chenchen/Desktop/egg/.venv/lib/python3.12/site-packages (from posthog>=2.4.0->chromadb==0.5.3) (1.6)\r\n",
      "Requirement already satisfied: backoff>=1.10.0 in /Users/chenchen/Desktop/egg/.venv/lib/python3.12/site-packages (from posthog>=2.4.0->chromadb==0.5.3) (2.2.1)\r\n",
      "Requirement already satisfied: annotated-types>=0.6.0 in /Users/chenchen/Desktop/egg/.venv/lib/python3.12/site-packages (from pydantic>=1.9->chromadb==0.5.3) (0.7.0)\r\n",
      "Requirement already satisfied: pydantic-core==2.27.2 in /Users/chenchen/Desktop/egg/.venv/lib/python3.12/site-packages (from pydantic>=1.9->chromadb==0.5.3) (2.27.2)\r\n",
      "Requirement already satisfied: charset-normalizer<4,>=2 in /Users/chenchen/Desktop/egg/.venv/lib/python3.12/site-packages (from requests>=2.28->chromadb==0.5.3) (3.4.1)\r\n",
      "Requirement already satisfied: huggingface-hub<1.0,>=0.16.4 in /Users/chenchen/Desktop/egg/.venv/lib/python3.12/site-packages (from tokenizers>=0.13.2->chromadb==0.5.3) (0.28.1)\r\n",
      "Requirement already satisfied: click>=8.0.0 in /Users/chenchen/Desktop/egg/.venv/lib/python3.12/site-packages (from typer>=0.9.0->chromadb==0.5.3) (8.1.8)\r\n",
      "Requirement already satisfied: shellingham>=1.3.0 in /Users/chenchen/Desktop/egg/.venv/lib/python3.12/site-packages (from typer>=0.9.0->chromadb==0.5.3) (1.5.4)\r\n",
      "Requirement already satisfied: rich>=10.11.0 in /Users/chenchen/Desktop/egg/.venv/lib/python3.12/site-packages (from typer>=0.9.0->chromadb==0.5.3) (13.9.4)\r\n",
      "Requirement already satisfied: httptools>=0.6.3 in /Users/chenchen/Desktop/egg/.venv/lib/python3.12/site-packages (from uvicorn[standard]>=0.18.3->chromadb==0.5.3) (0.6.4)\r\n",
      "Requirement already satisfied: python-dotenv>=0.13 in /Users/chenchen/Desktop/egg/.venv/lib/python3.12/site-packages (from uvicorn[standard]>=0.18.3->chromadb==0.5.3) (1.0.1)\r\n",
      "Requirement already satisfied: uvloop!=0.15.0,!=0.15.1,>=0.14.0 in /Users/chenchen/Desktop/egg/.venv/lib/python3.12/site-packages (from uvicorn[standard]>=0.18.3->chromadb==0.5.3) (0.21.0)\r\n",
      "Requirement already satisfied: watchfiles>=0.13 in /Users/chenchen/Desktop/egg/.venv/lib/python3.12/site-packages (from uvicorn[standard]>=0.18.3->chromadb==0.5.3) (1.0.4)\r\n",
      "Requirement already satisfied: websockets>=10.4 in /Users/chenchen/Desktop/egg/.venv/lib/python3.12/site-packages (from uvicorn[standard]>=0.18.3->chromadb==0.5.3) (14.2)\r\n",
      "Requirement already satisfied: cachetools<6.0,>=2.0.0 in /Users/chenchen/Desktop/egg/.venv/lib/python3.12/site-packages (from google-auth>=1.0.1->kubernetes>=28.1.0->chromadb==0.5.3) (5.5.1)\r\n",
      "Requirement already satisfied: pyasn1-modules>=0.2.1 in /Users/chenchen/Desktop/egg/.venv/lib/python3.12/site-packages (from google-auth>=1.0.1->kubernetes>=28.1.0->chromadb==0.5.3) (0.4.1)\r\n",
      "Requirement already satisfied: rsa<5,>=3.1.4 in /Users/chenchen/Desktop/egg/.venv/lib/python3.12/site-packages (from google-auth>=1.0.1->kubernetes>=28.1.0->chromadb==0.5.3) (4.9)\r\n",
      "Requirement already satisfied: filelock in /Users/chenchen/Desktop/egg/.venv/lib/python3.12/site-packages (from huggingface-hub<1.0,>=0.16.4->tokenizers>=0.13.2->chromadb==0.5.3) (3.17.0)\r\n",
      "Requirement already satisfied: fsspec>=2023.5.0 in /Users/chenchen/Desktop/egg/.venv/lib/python3.12/site-packages (from huggingface-hub<1.0,>=0.16.4->tokenizers>=0.13.2->chromadb==0.5.3) (2025.2.0)\r\n",
      "Requirement already satisfied: zipp>=3.20 in /Users/chenchen/Desktop/egg/.venv/lib/python3.12/site-packages (from importlib-metadata<=8.5.0,>=6.0->opentelemetry-api>=1.2.0->chromadb==0.5.3) (3.21.0)\r\n",
      "Requirement already satisfied: markdown-it-py>=2.2.0 in /Users/chenchen/Desktop/egg/.venv/lib/python3.12/site-packages (from rich>=10.11.0->typer>=0.9.0->chromadb==0.5.3) (3.0.0)\r\n",
      "Requirement already satisfied: pygments<3.0.0,>=2.13.0 in /Users/chenchen/Desktop/egg/.venv/lib/python3.12/site-packages (from rich>=10.11.0->typer>=0.9.0->chromadb==0.5.3) (2.19.1)\r\n",
      "Requirement already satisfied: sniffio>=1.1 in /Users/chenchen/Desktop/egg/.venv/lib/python3.12/site-packages (from anyio->httpx>=0.27.0->chromadb==0.5.3) (1.3.1)\r\n",
      "Requirement already satisfied: humanfriendly>=9.1 in /Users/chenchen/Desktop/egg/.venv/lib/python3.12/site-packages (from coloredlogs->onnxruntime>=1.14.1->chromadb==0.5.3) (10.0)\r\n",
      "Requirement already satisfied: mpmath<1.4,>=1.1.0 in /Users/chenchen/Desktop/egg/.venv/lib/python3.12/site-packages (from sympy->onnxruntime>=1.14.1->chromadb==0.5.3) (1.3.0)\r\n",
      "Requirement already satisfied: mdurl~=0.1 in /Users/chenchen/Desktop/egg/.venv/lib/python3.12/site-packages (from markdown-it-py>=2.2.0->rich>=10.11.0->typer>=0.9.0->chromadb==0.5.3) (0.1.2)\r\n",
      "Requirement already satisfied: pyasn1<0.7.0,>=0.4.6 in /Users/chenchen/Desktop/egg/.venv/lib/python3.12/site-packages (from pyasn1-modules>=0.2.1->google-auth>=1.0.1->kubernetes>=28.1.0->chromadb==0.5.3) (0.6.1)\r\n",
      "\r\n",
      "\u001B[1m[\u001B[0m\u001B[34;49mnotice\u001B[0m\u001B[1;39;49m]\u001B[0m\u001B[39;49m A new release of pip is available: \u001B[0m\u001B[31;49m23.2.1\u001B[0m\u001B[39;49m -> \u001B[0m\u001B[32;49m25.0\u001B[0m\r\n",
      "\u001B[1m[\u001B[0m\u001B[34;49mnotice\u001B[0m\u001B[1;39;49m]\u001B[0m\u001B[39;49m To update, run: \u001B[0m\u001B[32;49mpip install --upgrade pip\u001B[0m\r\n"
     ]
    }
   ],
   "source": [
    "! pip install -qU langchain-openai langchain langchain_community langchainhub\n",
    "! pip install chromadb==0.5.3"
   ],
   "metadata": {
    "collapsed": false,
    "ExecuteTime": {
     "end_time": "2025-02-05T09:57:43.327478Z",
     "start_time": "2025-02-05T09:57:39.387194Z"
    }
   },
   "id": "a3bc05f2dfe5d0de",
   "execution_count": 40
  },
  {
   "cell_type": "code",
   "outputs": [],
   "source": [
    "from langchain import hub as langchain_hub\n",
    "from langchain.schema import StrOutputParser\n",
    "from langchain_openai import ChatOpenAI\n",
    "from langchain.schema.runnable import RunnablePassthrough\n",
    "from langchain.text_splitter import MarkdownHeaderTextSplitter\n",
    "from langchain_openai import OpenAIEmbeddings\n",
    "import os\n",
    "from langchain_community.vectorstores.chroma import Chroma\n",
    "from langchain_core.prompts import PromptTemplate\n",
    "from string import Template\n",
    "import uuid"
   ],
   "metadata": {
    "collapsed": false,
    "ExecuteTime": {
     "end_time": "2025-02-05T09:57:43.327983Z",
     "start_time": "2025-02-05T09:57:43.325902Z"
    }
   },
   "id": "22f04793ad12a271",
   "execution_count": 41
  },
  {
   "cell_type": "code",
   "outputs": [],
   "source": [
    "from langchain_openai import OpenAI\n",
    "\n",
    "api_key = \"sk-xxxxx\"\n",
    "api_base = \"https://sg.uiuiapi.com/v1\"\n",
    "client = OpenAI(api_key=api_key, base_url=api_base)"
   ],
   "metadata": {
    "collapsed": false,
    "ExecuteTime": {
     "end_time": "2025-02-05T09:57:43.452157Z",
     "start_time": "2025-02-05T09:57:43.337521Z"
    }
   },
   "id": "2f00e0e0ae6ec1c8",
   "execution_count": 42
  },
  {
   "cell_type": "code",
   "outputs": [
    {
     "name": "stdout",
     "output_type": "stream",
     "text": [
      "Length of splits:  14\n",
      "[Document(metadata={'Header 1': '运维测试知识库', 'Header 2': '目录'}, page_content='- [什么是运维测试](#什么是运维测试)\\n- [运维测试的重要性](#运维测试的重要性)\\n- [运维测试的类型](#运维测试的类型)\\n- [功能测试](#功能测试)\\n- [性能测试](#性能测试)\\n- [安全测试](#安全测试)\\n- [兼容性测试](#兼容性测试)\\n- [运维测试的工具](#运维测试的工具)\\n- [监控工具](#监控工具)\\n- [负载测试工具](#负载测试工具)\\n- [安全扫描工具](#安全扫描工具)\\n- [运维测试流程](#运维测试流程)\\n- [最佳实践](#最佳实践)\\n- [参考资料](#参考资料)'), Document(metadata={'Header 1': '运维测试知识库', 'Header 2': '什么是运维测试'}, page_content='运维测试是指在软件开发和运维过程中，通过各种测试手段与工具，对系统进行全面评估，以确保系统的稳定性、性能、安全性和可用性。运维测试贯穿于应用程序的整个生命周期，并不仅仅局限于上线前的测试。'), Document(metadata={'Header 1': '运维测试知识库', 'Header 2': '运维测试的重要性'}, page_content='1. **保障系统稳定性**：通过测试发现潜在问题，减少系统故障率，提高系统的可靠性。\\n2. **优化性能**：确认系统在高负载情况下的表现，避免因性能问题导致用户体验下降。\\n3. **提升安全性**：及早识别安全漏洞，增强系统的安全防护能力。\\n4. **合规性检查**：确保系统符合相关法规和政策要求，降低法律风险。'), Document(metadata={'Header 1': '运维测试知识库', 'Header 2': '运维测试的类型', 'Header 3': '功能测试'}, page_content='验证系统是否按照需求正常工作，包括接口测试、用户界面测试等。'), Document(metadata={'Header 1': '运维测试知识库', 'Header 2': '运维测试的类型', 'Header 3': '性能测试'}, page_content='评估系统在不同负载下的表现，包括响应时间、吞吐量、并发用户数等。'), Document(metadata={'Header 1': '运维测试知识库', 'Header 2': '运维测试的类型', 'Header 3': '安全测试'}, page_content='检查系统的安全性，识别潜在的安全漏洞，确保数据的机密性和完整性。'), Document(metadata={'Header 1': '运维测试知识库', 'Header 2': '运维测试的类型', 'Header 3': '兼容性测试'}, page_content='验证系统在不同环境、浏览器和设备上的兼容性，确保用户能够顺利访问。'), Document(metadata={'Header 1': '运维测试知识库', 'Header 2': '运维测试的工具', 'Header 3': '监控工具'}, page_content='- **Prometheus**：开源监控和报警系统，适用于微服务架构。\\n- **Grafana**：数据可视化工具，常与Prometheus结合使用。\\n- **Zabbix**：企业级开源监控解决方案，支持多种监控方式。'), Document(metadata={'Header 1': '运维测试知识库', 'Header 2': '运维测试的工具', 'Header 3': '负载测试工具'}, page_content='- **JMeter**：用于性能测试的开源工具，可以模拟大量用户并发访问。\\n- **Locust**：基于Python的负载测试工具，易于编写自定义测试用例。'), Document(metadata={'Header 1': '运维测试知识库', 'Header 2': '运维测试的工具', 'Header 3': '安全扫描工具'}, page_content='- **OWASP ZAP**：开源的Web应用程序安全扫描工具，用于发现安全漏洞。\\n- **Nessus**：专业的漏洞扫描工具，可以帮助识别网络安全问题。'), Document(metadata={'Header 1': '运维测试知识库', 'Header 2': '运维测试流程'}, page_content='1. **需求分析**：明确测试目标和测试范围。\\n2. **测试计划**：制定详细的测试计划，包括测试策略、资源分配和时间安排。\\n3. **环境准备**：搭建测试环境，确保与生产环境一致。\\n4. **执行测试**：根据测试用例执行测试，并记录测试结果。\\n5. **缺陷管理**：对发现的缺陷进行分类、跟踪和修复。\\n6. **测试报告**：撰写测试报告，汇总测试结果和改进建议。\\n7. **回归测试**：在缺陷修复后进行回归测试，确保修改没有引入新的问题。'), Document(metadata={'Header 1': '运维测试知识库', 'Header 2': '最佳实践'}, page_content='- **自动化测试**：尽可能将测试过程自动化，提高测试效率和准确性。\\n- **持续集成**：将运维测试纳入持续集成/持续交付（CI/CD）流程中，实现快速反馈。\\n- **定期审查**：定期对测试用例和测试环境进行审查和更新，以适应系统的变化。\\n- **团队协作**：加强开发、运维和测试团队之间的沟通与合作，形成良好的协同效应。'), Document(metadata={'Header 1': '运维测试知识库', 'Header 2': '参考资料'}, page_content='- [《敏捷运维》](https://www.example.com)\\n- [Prometheus 官方文档](https://prometheus.io/docs/introduction/overview/)\\n- [OWASP ZAP 项目主页](https://owasp.org/www-project-zap/)'), Document(metadata={'Header 1': '运维测试知识库', 'Header 2': '参考资料', 'Header 3': '联系人'}, page_content='小王，管理 payment 系统\\n小王，管理 payment-1 系统\\n小李，管理 inventory 系统\\n小张，管理 order 系统')]\n"
     ]
    }
   ],
   "source": [
    "# 读取 ./data/data.md 文件作为知识库\n",
    "file_path = os.path.join('data', 'data.md')\n",
    "with open(file_path, 'r', encoding='utf-8') as f:\n",
    "    docs_string = f.read()\n",
    "\n",
    "# split the document into chunks base on markdown headers\n",
    "headers_to_split_on = [\n",
    "    (\"#\", \"Header 1\"),\n",
    "    (\"##\", \"Header 2\"),\n",
    "    (\"###\", \"Header 3\"),\n",
    "]\n",
    "text_splitter = MarkdownHeaderTextSplitter(headers_to_split_on=headers_to_split_on)\n",
    "splits = text_splitter.split_text(docs_string)\n",
    "print(\"Length of splits: \", len(splits))\n",
    "print(splits)"
   ],
   "metadata": {
    "collapsed": false,
    "ExecuteTime": {
     "end_time": "2025-02-05T09:57:43.462366Z",
     "start_time": "2025-02-05T09:57:43.454069Z"
    }
   },
   "id": "54a3e708c00be88d",
   "execution_count": 43
  },
  {
   "cell_type": "code",
   "outputs": [],
   "source": [
    "# 向量化\n",
    "# 保存到随机目录里\n",
    "random_directory = \"./\" + str(uuid.uuid4())\n",
    "embedding = OpenAIEmbeddings(model=\"text-embedding-3-small\")\n",
    "# embedding = OpenAIEmbeddings()\n",
    "vectorstore = Chroma.from_documents(documents=splits, embedding=embedding, persist_directory=random_directory)\n",
    "vectorstore.persist()"
   ],
   "metadata": {
    "collapsed": false,
    "ExecuteTime": {
     "end_time": "2025-02-05T09:59:51.357243Z",
     "start_time": "2025-02-05T09:57:43.459537Z"
    }
   },
   "id": "eda1dab84d5670bd",
   "execution_count": 44
  },
  {
   "cell_type": "code",
   "outputs": [
    {
     "name": "stdout",
     "output_type": "stream",
     "text": [
      "匹配到知识库片段：\n",
      " 小王，管理 payment 系统\n",
      "小王，管理 payment-1 系统\n",
      "小李，管理 inventory 系统\n",
      "小张，管理 order 系统\n",
      "\n",
      "1. **保障系统稳定性**：通过测试发现潜在问题，减少系统故障率，提高系统的可靠性。\n",
      "2. **优化性能**：确认系统在高负载情况下的表现，避免因性能问题导致用户体验下降。\n",
      "3. **提升安全性**：及早识别安全漏洞，增强系统的安全防护能力。\n",
      "4. **合规性检查**：确保系统符合相关法规和政策要求，降低法律风险。\n",
      "\n",
      "检查系统的安全性，识别潜在的安全漏洞，确保数据的机密性和完整性。\n",
      "\n",
      "验证系统是否按照需求正常工作，包括接口测试、用户界面测试等。\n",
      "\n",
      "\n",
      "LLM 回答： 不知道，因为没有提供具体的上下文和信息来判断哪个系统是由谁管理的。谢谢询问！\n"
     ]
    }
   ],
   "source": [
    "# 传统 rag 流程\n",
    "retriever = vectorstore.as_retriever()\n",
    "\n",
    "# 提示语模板\n",
    "template = \"\"\"使用以下上下文来回答最后的问题。\n",
    "如果你不知道答案，就说不知道，不要试图编造答案。\n",
    "最多使用三句话，并尽可能简洁的回答。\n",
    "在答案的最后一定要说“谢谢询问！”。\n",
    "\n",
    "{context}\n",
    "Question: {question}\n",
    "\n",
    "Helpful Answer:\"\"\"\n",
    "custom_rag_promot = PromptTemplate.from_template(template=template)\n",
    "\n",
    "\n",
    "def format_docs(docs):\n",
    "    print(\"匹配到知识库片段：\\n\", \"\\n\\n\".join(doc.page_content for doc in docs))\n",
    "\n",
    "\n",
    "llm = ChatOpenAI(model=\"gpt-4o\")\n",
    "rag_chain = (\n",
    "        {\"context\": retriever | format_docs, \"question\": RunnablePassthrough()}\n",
    "        | custom_rag_promot\n",
    "        | llm\n",
    "        | StrOutputParser()\n",
    ")\n",
    "\n",
    "# 传统 RAG 无法回答的问题\n",
    "res = rag_chain.invoke(\"谁管的系统最多\")\n",
    "print(\"\\n\\nLLM 回答：\", res)"
   ],
   "metadata": {
    "collapsed": false,
    "ExecuteTime": {
     "end_time": "2025-02-05T10:01:38.930646Z",
     "start_time": "2025-02-05T10:01:36.107347Z"
    }
   },
   "id": "bd2af28c95f261f8",
   "execution_count": 46
  },
  {
   "cell_type": "code",
   "outputs": [],
   "source": [
    "# Agent RAG\n",
    "# 文本相似性检索\n",
    "def search_docs(query, k=1):\n",
    "    result = vectorstore.similarity_search_with_score(query, k=k)\n",
    "    return \"\\n\\n\".join(doc.page_content for doc, score in result)\n",
    "\n",
    "\n",
    "user_query = \"谁管的系统最多？\"\n",
    "\n",
    "check_can_answer_system_prompt = \"\"\"\n",
    "根据上下文识别问题是否能够回答，如果不能，则返回 JSON 字符串 \"{\"can_answer\":false}\"，如果可以返回\"{\"can_answer\":true}\"，\n",
    "上下文：\\n $context\n",
    "问题： $question\n",
    "\"\"\"\n",
    "\n",
    "# llm = ChatOpenAI(model=\"gpt-4o\")\n",
    "k = 1\n",
    "docs = \"\"\n",
    "\n",
    "while True:\n",
    "    # 检索相关文章，每次循环都会增加一个文档块，最大 15 块\n",
    "    print(\"第\", k, \"次检索\")\n",
    "    if k > 15:\n",
    "        break\n",
    "    docs = search_docs(user_query, k)\n",
    "    print(\"匹配到的文档是：\", docs)\n",
    "    template = Template(check_can_answer_system_prompt)\n",
    "    filled_prompt = template.substitute(context=docs, question=user_query)\n",
    "    # 组装 message\n",
    "    message = [\n",
    "        (\n",
    "            \"system\", filled_prompt\n",
    "        ),\n",
    "        (\n",
    "            \"human\", \"开始检查上下文是否足够回答问题。\"\n",
    "        )\n",
    "    ]\n",
    "    llm_message = llm.invoke(message)\n",
    "    content = llm_message.content\n",
    "    print(\"LLM Res: \", content, \"\\n\")\n",
    "    if content == '{\"can_answer\":true}':\n",
    "        break\n",
    "    else:\n",
    "        k += 1\n",
    "print(\"已经匹配到能够回答问题的知识库，开始回答\\n\")\n",
    "\n",
    "# 最终推理\n",
    "final_system_prompt = \"\"\"\n",
    "您是问答任务的助手，使用检索到的上下文来回答用户提出的问题。如果你不知道答案，就说不知道，不要试图编造答案。\n",
    "最多使用三句话，并尽可能简洁的回答。\n",
    "\"\"\"\n",
    "\n",
    "final_messages = [\n",
    "    (\n",
    "        \"system\", final_system_prompt\n",
    "    ),\n",
    "    (\n",
    "        \"human\", \"上下文是:\\n\" + docs + \"\\n 问题：\" + user_query\n",
    "    )\n",
    "]\n",
    "\n",
    "llm_message = llm.invoke(final_messages)\n",
    "content = llm_message.content\n",
    "print(\"LLM Final Res: \", content, \"\\n\")"
   ],
   "metadata": {
    "collapsed": false
   },
   "id": "7cb01f920ebd5c90"
  }
 ],
 "metadata": {
  "kernelspec": {
   "display_name": "Python 3",
   "language": "python",
   "name": "python3"
  },
  "language_info": {
   "codemirror_mode": {
    "name": "ipython",
    "version": 2
   },
   "file_extension": ".py",
   "mimetype": "text/x-python",
   "name": "python",
   "nbconvert_exporter": "python",
   "pygments_lexer": "ipython2",
   "version": "2.7.6"
  }
 },
 "nbformat": 4,
 "nbformat_minor": 5
}
